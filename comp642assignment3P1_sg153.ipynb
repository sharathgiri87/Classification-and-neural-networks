{
  "nbformat": 4,
  "nbformat_minor": 0,
  "metadata": {
    "colab": {
      "provenance": []
    },
    "kernelspec": {
      "name": "python3",
      "display_name": "Python 3"
    },
    "language_info": {
      "name": "python"
    }
  },
  "cells": [
    {
      "cell_type": "code",
      "source": [
        "!pip install scikit-learn"
      ],
      "metadata": {
        "colab": {
          "base_uri": "https://localhost:8080/"
        },
        "id": "Z28loqcMOO6C",
        "outputId": "a6f330ef-ef4b-4e0c-d001-a39e4c20c7a9"
      },
      "execution_count": null,
      "outputs": [
        {
          "output_type": "stream",
          "name": "stdout",
          "text": [
            "Looking in indexes: https://pypi.org/simple, https://us-python.pkg.dev/colab-wheels/public/simple/\n",
            "Requirement already satisfied: scikit-learn in /usr/local/lib/python3.9/dist-packages (1.2.2)\n",
            "Requirement already satisfied: numpy>=1.17.3 in /usr/local/lib/python3.9/dist-packages (from scikit-learn) (1.22.4)\n",
            "Requirement already satisfied: joblib>=1.1.1 in /usr/local/lib/python3.9/dist-packages (from scikit-learn) (1.1.1)\n",
            "Requirement already satisfied: scipy>=1.3.2 in /usr/local/lib/python3.9/dist-packages (from scikit-learn) (1.10.1)\n",
            "Requirement already satisfied: threadpoolctl>=2.0.0 in /usr/local/lib/python3.9/dist-packages (from scikit-learn) (3.1.0)\n"
          ]
        }
      ]
    },
    {
      "cell_type": "code",
      "execution_count": 1,
      "metadata": {
        "colab": {
          "base_uri": "https://localhost:8080/"
        },
        "id": "vIe9cOoEHMub",
        "outputId": "b0b26320-4029-4788-f71b-b8a27a4fa6d9"
      },
      "outputs": [
        {
          "output_type": "stream",
          "name": "stderr",
          "text": [
            "/usr/local/lib/python3.9/dist-packages/sklearn/datasets/_openml.py:968: FutureWarning: The default value of `parser` will change from `'liac-arff'` to `'auto'` in 1.4. You can set `parser='auto'` to silence this warning. Therefore, an `ImportError` will be raised from 1.4 if the dataset is dense and pandas is not installed. Note that the pandas parser may return different data types. See the Notes Section in fetch_openml's API doc for details.\n",
            "  warn(\n"
          ]
        }
      ],
      "source": [
        "#importing lib and dataset\n",
        "import numpy as np\n",
        "import pandas as pd\n",
        "import sklearn\n",
        "from sklearn.datasets import fetch_openml\n",
        "from sklearn.model_selection import train_test_split\n",
        "mnist = fetch_openml('mnist_784')"
      ]
    },
    {
      "cell_type": "code",
      "source": [
        "#preprocessing the data\n",
        "x = mnist.data\n",
        "y = mnist.target\n",
        "y_onehot = pd.get_dummies(y)"
      ],
      "metadata": {
        "id": "Qpf6_exUOXIV"
      },
      "execution_count": 2,
      "outputs": []
    },
    {
      "cell_type": "code",
      "source": [
        "# split the data into training and test sets\n",
        "x_train, x_test, y_train, y_test = train_test_split(x, y_onehot, test_size=0.1, random_state=42)"
      ],
      "metadata": {
        "id": "vbNwCsDYTlA-"
      },
      "execution_count": 3,
      "outputs": []
    },
    {
      "cell_type": "code",
      "source": [
        "#creating the model - FCNN\n",
        "from sklearn.neural_network import MLPClassifier\n",
        "import matplotlib.pyplot as plt\n",
        "\n",
        "# create an MLP classifier hidden layers\n",
        "model = MLPClassifier(hidden_layer_sizes=(300,100,30,10), max_iter=100, alpha=0.01, learning_rate_init=0.001, solver='adam', random_state=42, validation_fraction =0.1,early_stopping=True)\n",
        "\n",
        "# fit the model to the training data\n",
        "model.fit(x_train, y_train)\n",
        "\n",
        "# evaluate the model on the test data and obtain the test loss\n",
        "test_acc = model.score(x_test, y_test)\n",
        "print('Final accuracy: {:.2f}%'.format(test_acc * 100))\n",
        "\n",
        "train_loss = model.loss_curve_\n",
        "val_loss = model.validation_scores_\n",
        "\n",
        "# plot the loss curves\n",
        "plt.plot(train_loss, label='Train')\n",
        "plt.plot(val_loss, label='Validation')\n",
        "plt.xlabel('Epoch')\n",
        "plt.ylabel('Loss')\n",
        "plt.legend()\n",
        "plt.show()\n",
        "\n"
      ],
      "metadata": {
        "colab": {
          "base_uri": "https://localhost:8080/",
          "height": 470
        },
        "id": "Ozvd7QFBUZDA",
        "outputId": "18b65c5c-2254-44d2-af28-73e2f361b8ac"
      },
      "execution_count": null,
      "outputs": [
        {
          "output_type": "stream",
          "name": "stdout",
          "text": [
            "Final accuracy: 96.97%\n"
          ]
        },
        {
          "output_type": "display_data",
          "data": {
            "text/plain": [
              "<Figure size 640x480 with 1 Axes>"
            ],
            "image/png": "[encoded data removed]"
          },
          "metadata": {}
        }
      ]
    },
    {
      "cell_type": "code",
      "source": [
        "#Question2 - CNN Model\n",
        "import tensorflow as tf\n",
        "from tensorflow.keras.datasets import mnist\n",
        "from IPython.display import clear_output\n",
        "import matplotlib.pyplot as plt\n",
        "\n",
        "# Load the MNIST dataset\n",
        "(x_train_full, y_train_full), (x_test, y_test) = mnist.load_data()\n",
        "\n",
        "# Normalize the pixel values between 0 and 1\n",
        "x_train_full = x_train_full.astype('float32') / 255.\n",
        "x_test = x_test.astype('float32') / 255.\n",
        "\n",
        "# Split the training set into training and validation sets\n",
        "# Set aside 5,000 examples for validation\n",
        "x_train, x_val = x_train_full[:-5000], x_train_full[-5000:]\n",
        "y_train, y_val = y_train_full[:-5000], y_train_full[-5000:]\n",
        "\n",
        "# Print the shape of each dataset\n",
        "print('Training dataset shape:', x_train.shape, y_train.shape)\n",
        "print('Validation dataset shape:', x_val.shape, y_val.shape)\n",
        "print('Test dataset shape:', x_test.shape, y_test.shape)\n",
        "\n",
        "\n",
        "# Add a channel dimension to the images\n",
        "x_train = x_train[..., tf.newaxis]\n",
        "x_val = x_val[..., tf.newaxis]\n",
        "x_test = x_test[..., tf.newaxis]\n",
        "\n",
        "# Build the CNN model\n",
        "model = tf.keras.Sequential([\n",
        "    tf.keras.layers.Conv2D(32, (3, 3), activation='relu', input_shape=(28, 28, 1)),\n",
        "    tf.keras.layers.MaxPooling2D((2, 2)),\n",
        "    tf.keras.layers.Dropout((0.25)),\n",
        "    tf.keras.layers.Conv2D(64, (3, 3), activation='relu'),\n",
        "    tf.keras.layers.MaxPooling2D((2, 2)),\n",
        "    tf.keras.layers.Dropout((0.25)),\n",
        "    tf.keras.layers.Conv2D(32, (3, 3), activation='relu'),\n",
        "    tf.keras.layers.MaxPooling2D((2, 2)),\n",
        "    tf.keras.layers.Dropout((0.25)),\n",
        "    tf.keras.layers.Flatten(),\n",
        "    tf.keras.layers.Dense(32, activation='relu'),\n",
        "    tf.keras.layers.Dense(10, activation='softmax')\n",
        "])\n",
        "\n",
        "class PlotLoss(tf.keras.callbacks.Callback):\n",
        "    def on_train_begin(self, logs={}):\n",
        "        self.i = 0\n",
        "        self.x = []\n",
        "        self.losses = []\n",
        "        self.val_losses = []\n",
        "        self.fig = plt.figure()\n",
        "        self.logs = []\n",
        "        \n",
        "    def on_epoch_end(self, epoch, logs={}):\n",
        "        self.logs.append(logs)\n",
        "        self.x.append(self.i)\n",
        "        self.losses.append(logs.get('loss'))\n",
        "        self.val_losses.append(logs.get('val_loss'))\n",
        "        self.i += 1\n",
        "        clear_output(wait=True)\n",
        "        plt.plot(self.x, self.losses, label=\"loss\")\n",
        "        plt.plot(self.x, self.val_losses, label=\"val_loss\")\n",
        "        plt.legend()\n",
        "        plt.show()\n",
        "        \n",
        "plot_loss = PlotLoss()\n",
        "\n",
        "# Compile the model\n",
        "model.compile(optimizer= tf.keras.optimizers.Adam(learning_rate=0.001), loss='sparse_categorical_crossentropy', metrics=['accuracy'])\n",
        "\n",
        "# Train the model\n",
        "model.fit(x_train, y_train, epochs=15, validation_data=(x_val, y_val),  callbacks=[plot_loss])\n",
        "\n",
        "test_loss, test_acc = model.evaluate(x_test, y_test)\n",
        "\n",
        "# Print the test loss and accuracy\n",
        "print('Test loss:', test_loss)\n",
        "print('Test accuracy:', round(test_acc,2))\n",
        "\n"
      ],
      "metadata": {
        "colab": {
          "base_uri": "https://localhost:8080/",
          "height": 499
        },
        "id": "tLnREk0gpZiH",
        "outputId": "e6368fa5-34f7-4990-e132-c25f7a3ef185"
      },
      "execution_count": 4,
      "outputs": [
        {
          "output_type": "display_data",
          "data": {
            "text/plain": [
              "<Figure size 640x480 with 1 Axes>"
            ],
            "image/png": "[encoded data removed]"
          },
          "metadata": {}
        },
        {
          "output_type": "stream",
          "name": "stdout",
          "text": [
            "1719/1719 [==============================] - 63s 37ms/step - loss: 0.0866 - accuracy: 0.9748 - val_loss: 0.0443 - val_accuracy: 0.9882\n",
            "313/313 [==============================] - 3s 9ms/step - loss: 0.0431 - accuracy: 0.9882\n",
            "Test loss: 0.043054454028606415\n",
            "Test accuracy: 0.99\n"
          ]
        }
      ]
    },
    {
      "cell_type": "code",
      "source": [],
      "metadata": {
        "id": "TZxHY2bH5Jez"
      },
      "execution_count": null,
      "outputs": []
    },
    {
      "cell_type": "markdown",
      "source": [
        "3. Compare the performance of the two models and explain the difference.\n",
        "\n",
        "When I initially built the models and run them, I thought CNN took more time.\n",
        "CNN even with one layer is achieving 95% plus  results where as fully connected layer is around 90% (300 neurons). In theory CNN is better than fully connected layer as it understands the spacial features. Come to think of it both of them are multiplication end of the day just the way it is done is different.\n",
        "Over all the accuracies for both the models are high but CNN beats FCNN for image processing because of spacial feature detection and also data augumentation seems to be easier in CNN vs FCNN.\n",
        "For same number of parameters CNN takes higher time for training vs FCNN as the data points are more (each parameter runs through the whole image unlike FCNN)\n",
        "For FCNN number of epochs taken to flatten the training loss were around 10-12 but CNN converged fasted. I would imagine since CNN is able to capture the features bettern than FCNN is the leading cause. "
      ],
      "metadata": {
        "id": "IooaYks85Qrp"
      }
    },
    {
      "cell_type": "code",
      "source": [],
      "metadata": {
        "id": "7SZ3e1dZ5eHX"
      },
      "execution_count": null,
      "outputs": []
    }
  ]
}