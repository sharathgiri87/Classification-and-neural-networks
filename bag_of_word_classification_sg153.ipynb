{
  "cells": [
    {
      "cell_type": "markdown",
      "id": "44d876aa",
      "metadata": {
        "id": "44d876aa"
      },
      "source": [
        "Introduction: The goal of this task is to predict the intent of the customer given their query text input. The dataset is ATIS (Airline Travel Information System) and consists of (query, intent) pairs. For this problem, you will implement the Bag of Word technique and a fully connected neural network to predict the intent of query text."
      ]
    },
    {
      "cell_type": "code",
      "execution_count": 4,
      "id": "37bf8c89",
      "metadata": {
        "id": "37bf8c89"
      },
      "outputs": [],
      "source": [
        "import sklearn\n",
        "from sklearn.feature_extraction.text import CountVectorizer\n",
        "import pandas as pd"
      ]
    },
    {
      "cell_type": "code",
      "source": [
        "!pip uninstall numpy\n",
        "!pip install numpy\n",
        "!pip uninstall gensim\n",
        "!pip install gensim"
      ],
      "metadata": {
        "id": "ta3FkLaF6vCV"
      },
      "id": "ta3FkLaF6vCV",
      "execution_count": null,
      "outputs": []
    },
    {
      "cell_type": "code",
      "execution_count": 5,
      "id": "5c5a01ca",
      "metadata": {
        "id": "5c5a01ca"
      },
      "outputs": [],
      "source": [
        "df_train = pd.read_csv('atis.train.csv', delimiter=',')\n",
        "query_train, intent_train = df_train[\"tokens\"], df_train[\"intent\"]\n",
        "\n",
        "df_test = pd.read_csv('atis.test.csv', delimiter=',')\n",
        "query_test, intent_test = df_test[\"tokens\"], df_test[\"intent\"]"
      ]
    },
    {
      "cell_type": "code",
      "execution_count": 6,
      "id": "f20808d3",
      "metadata": {
        "colab": {
          "base_uri": "https://localhost:8080/"
        },
        "id": "f20808d3",
        "outputId": "3319d47c-e612-4b70-c198-512b95597690"
      },
      "outputs": [
        {
          "output_type": "stream",
          "name": "stdout",
          "text": [
            "Query examples: \n"
          ]
        },
        {
          "output_type": "execute_result",
          "data": {
            "text/plain": [
              "(4274,)"
            ]
          },
          "metadata": {},
          "execution_count": 6
        }
      ],
      "source": [
        "print(\"Query examples: \")\n",
        "query_train.head(5)\n",
        "query_train.shape\n"
      ]
    },
    {
      "cell_type": "code",
      "source": [
        "voc = set(words for idx in query_train.astype(str) for words in idx.split(\" \"))\n",
        "len(voc)"
      ],
      "metadata": {
        "colab": {
          "base_uri": "https://localhost:8080/"
        },
        "id": "8jH3HMpGeYsJ",
        "outputId": "ce585d05-7dc2-4bab-feea-24e65aea482e"
      },
      "id": "8jH3HMpGeYsJ",
      "execution_count": 7,
      "outputs": [
        {
          "output_type": "execute_result",
          "data": {
            "text/plain": [
              "874"
            ]
          },
          "metadata": {},
          "execution_count": 7
        }
      ]
    },
    {
      "cell_type": "code",
      "execution_count": 8,
      "id": "91686dd4",
      "metadata": {
        "colab": {
          "base_uri": "https://localhost:8080/"
        },
        "id": "91686dd4",
        "outputId": "2bbc497c-b860-455d-d4f3-d6ad0b2955d8"
      },
      "outputs": [
        {
          "output_type": "stream",
          "name": "stdout",
          "text": [
            "Intent examples: \n"
          ]
        },
        {
          "output_type": "execute_result",
          "data": {
            "text/plain": [
              "0         atis_airfare\n",
              "1          atis_flight\n",
              "2          atis_flight\n",
              "3    atis_abbreviation\n",
              "4          atis_flight\n",
              "Name: intent, dtype: object"
            ]
          },
          "metadata": {},
          "execution_count": 8
        }
      ],
      "source": [
        "print(\"Intent examples: \")\n",
        "intent_train.head(5)"
      ]
    },
    {
      "cell_type": "code",
      "execution_count": 9,
      "id": "0d401179",
      "metadata": {
        "colab": {
          "base_uri": "https://localhost:8080/"
        },
        "id": "0d401179",
        "outputId": "bf39c4aa-4aab-40fc-d153-ab5a7450958f"
      },
      "outputs": [
        {
          "output_type": "stream",
          "name": "stdout",
          "text": [
            "There are 17 different categories of intent.\n",
            "['atis_airfare' 'atis_flight' 'atis_abbreviation' 'atis_ground_service'\n",
            " 'atis_restriction' 'atis_airport' 'atis_quantity' 'atis_meal'\n",
            " 'atis_airline' 'atis_city' 'atis_flight_no' 'atis_ground_fare'\n",
            " 'atis_flight_time' 'atis_flight#atis_airfare' 'atis_distance'\n",
            " 'atis_aircraft' 'atis_capacity']\n"
          ]
        }
      ],
      "source": [
        "print(\"There are {:d} different categories of intent.\".format(intent_train.nunique()))\n",
        "print(intent_train.unique())"
      ]
    },
    {
      "cell_type": "code",
      "execution_count": 10,
      "id": "7c7f57c5",
      "metadata": {
        "id": "7c7f57c5"
      },
      "outputs": [],
      "source": [
        "#####################################################################################\n",
        "# TODO: Transform query_train and query_test into Bag of Word representations: X_train, X_test\n",
        "# Hint: Use sklearn CountVectorizer to construct Bag of Word representation for the query text.\n",
        "# Approximately 3 lines of code\n",
        "\n",
        "count_vectorizer = CountVectorizer(vocabulary=voc)\n",
        "\n",
        "\n",
        "# Convert the test data to a bag-of-words representation\n",
        "x_train = count_vectorizer.transform(query_train)\n",
        "x_test = count_vectorizer.transform(query_test)\n",
        "#####################################################################################"
      ]
    },
    {
      "cell_type": "code",
      "source": [
        "x_train.shape"
      ],
      "metadata": {
        "colab": {
          "base_uri": "https://localhost:8080/"
        },
        "id": "52gohmpGk21u",
        "outputId": "fbf90b96-67b2-4821-e0d9-31f760c99bf1"
      },
      "id": "52gohmpGk21u",
      "execution_count": 11,
      "outputs": [
        {
          "output_type": "execute_result",
          "data": {
            "text/plain": [
              "(4274, 874)"
            ]
          },
          "metadata": {},
          "execution_count": 11
        }
      ]
    },
    {
      "cell_type": "code",
      "execution_count": 74,
      "id": "d4eae09b",
      "metadata": {
        "id": "d4eae09b"
      },
      "outputs": [],
      "source": [
        "from sklearn import preprocessing\n",
        "from sklearn.preprocessing import LabelEncoder, OneHotEncoder\n",
        "\n",
        "labelEncoder = preprocessing.LabelEncoder()\n",
        "y_train = labelEncoder.fit_transform(intent_train)\n",
        "y_test = labelEncoder.transform(intent_test)\n"
      ]
    },
    {
      "cell_type": "code",
      "execution_count": 79,
      "id": "463d52fa",
      "metadata": {
        "colab": {
          "base_uri": "https://localhost:8080/",
          "height": 466
        },
        "id": "463d52fa",
        "outputId": "840861a3-61ea-42ea-8b3b-2b65efd9d013"
      },
      "outputs": [
        {
          "output_type": "stream",
          "name": "stdout",
          "text": [
            "Final accuracy: 91.98%\n"
          ]
        },
        {
          "output_type": "display_data",
          "data": {
            "text/plain": [
              "<Figure size 640x480 with 1 Axes>"
            ],
            "image/png": "[encoded data removed]"
          },
          "metadata": {}
        }
      ],
      "source": [
        "#####################################################################################\n",
        "# TODO: Train your favorite model and evaluate your model with the test data\n",
        "#training 2 models FCNN and a LSTM\n",
        "#i am training a fully connected neural network here\n",
        "from sklearn.neural_network import MLPClassifier\n",
        "import matplotlib.pyplot as plt\n",
        "\n",
        "onehot = preprocessing.OneHotEncoder()\n",
        "y_train = onehot.fit_transform(intent_train.values.reshape(-1,1))\n",
        "y_test = onehot.transform(intent_test.values.reshape(-1,1))\n",
        "\n",
        "# create an MLP classifier hidden layers\n",
        "model = MLPClassifier(hidden_layer_sizes=(500,100,30,17),max_iter=100, alpha=0.01, learning_rate_init=0.001, solver='adam', random_state=42, validation_fraction =0.1,early_stopping=True)\n",
        "\n",
        "# fit the model to the training data\n",
        "model.fit(x_train, y_train)\n",
        "\n",
        "# evaluate the model on the test data and obtain the test loss\n",
        "test_acc = model.score(x_test, y_test)\n",
        "print('Final accuracy: {:.2f}%'.format(test_acc * 100))\n",
        "\n",
        "train_loss = model.loss_curve_\n",
        "val_loss = model.validation_scores_\n",
        "\n",
        "# plot the loss curves\n",
        "plt.plot(train_loss, label='Train')\n",
        "plt.plot(val_loss, label='Validation')\n",
        "plt.xlabel('Epoch')\n",
        "plt.ylabel('Loss')\n",
        "plt.legend()\n",
        "plt.show()"
      ]
    },
    {
      "cell_type": "code",
      "source": [
        "############ using glove and then LSTM #############\n",
        "import gensim.downloader as api\n",
        "# Load the pre-trained model\n",
        "model2 = api.load(\"glove-wiki-gigaword-300\")\n"
      ],
      "metadata": {
        "id": "u0UBthOEoaZW"
      },
      "id": "u0UBthOEoaZW",
      "execution_count": 13,
      "outputs": []
    },
    {
      "cell_type": "code",
      "source": [
        "#vectorizing the queries \n",
        "import nltk\n",
        "from nltk.tokenize import word_tokenize\n",
        "from nltk.corpus import stopwords\n",
        "from nltk.stem import SnowballStemmer\n",
        "import re\n",
        "\n",
        "nltk.download('punkt')\n",
        "nltk.download('stopwords')\n",
        "\n",
        "stemmer = SnowballStemmer('english')\n",
        "stop_words = set(stopwords.words('english'))\n",
        "word_list = model2.index_to_key\n",
        "\n",
        "def preprocess(token):\n",
        "    # Lowercase the tokens\n",
        "    tokens = token.lower()\n",
        "    # Stem the tokens\n",
        "    tokens = re.sub(r'[^\\w\\s]', '', tokens)\n",
        "    return tokens\n",
        "\n",
        "\n",
        "queries = []\n",
        "for idx in range(len(query_train)):\n",
        "  subqueries = query_train[idx].split(\" \")\n",
        "  vec = []\n",
        "  for num in subqueries:\n",
        "    pre_num = preprocess(num)\n",
        "    if num !=\"BOS\" and num != \"EOS\" and pre_num in word_list:\n",
        "      vec.append(model2[pre_num])\n",
        "  queries.append(vec)\n",
        "\n",
        "tests = []\n",
        "for idx in range(len(query_test)):\n",
        "  subqueries = query_test[idx].split(\" \")\n",
        "  vec = []\n",
        "  for num in subqueries:\n",
        "    pre_num = preprocess(num)\n",
        "    if num !=\"BOS\" and num != \"EOS\" and pre_num in word_list:\n",
        "      vec.append(model2[pre_num])\n",
        "  tests.append(vec)\n"
      ],
      "metadata": {
        "colab": {
          "base_uri": "https://localhost:8080/"
        },
        "id": "Di8mpCGcq8WS",
        "outputId": "8a3d104a-7610-496d-9dd8-f517f05c2633"
      },
      "id": "Di8mpCGcq8WS",
      "execution_count": 14,
      "outputs": [
        {
          "output_type": "stream",
          "name": "stderr",
          "text": [
            "[nltk_data] Downloading package punkt to /root/nltk_data...\n",
            "[nltk_data]   Package punkt is already up-to-date!\n",
            "[nltk_data] Downloading package stopwords to /root/nltk_data...\n",
            "[nltk_data]   Package stopwords is already up-to-date!\n"
          ]
        }
      ]
    },
    {
      "cell_type": "code",
      "source": [
        "#building a LSTM model\n",
        "import tensorflow as tf\n",
        "from tensorflow.keras.preprocessing.sequence import pad_sequences\n",
        "from keras.utils import to_categorical\n",
        "from keras.models import Sequential, load_model\n",
        "from keras.layers import Embedding, LSTM, Dense, Dropout\n",
        "import numpy as np\n",
        "from IPython.display import clear_output\n",
        "import matplotlib.pyplot as plt\n",
        "from keras.callbacks import EarlyStopping\n",
        "from tensorflow.keras.optimizers import Adam\n",
        "from keras.regularizers import l1, l2\n",
        "from keras.callbacks import ModelCheckpoint\n",
        "\n",
        "y_train = labelEncoder.fit_transform(intent_train)\n",
        "y_test = labelEncoder.transform(intent_test)\n",
        "\n",
        "# Define the maximum length of the input sequence\n",
        "max_length = 50\n",
        "\n",
        "sequence = queries\n",
        "# Pad the sequences to ensure they all have the same length\n",
        "padded_sequences = pad_sequences(sequence, maxlen=max_length)\n",
        "\n",
        "# Define the number of output classes\n",
        "num_classes = len(set(intent_train))\n",
        "print(num_classes)\n",
        "y_train_encoded = to_categorical(y_train, num_classes=num_classes)\n",
        "\n",
        "# Define the model architecture\n",
        "model = Sequential()\n",
        "model.add(LSTM(128,return_sequences=True, input_shape=(50, 300)))\n",
        "model.add(Dropout(0.50))\n",
        "model.add(LSTM(32,return_sequences=False))\n",
        "model.add(Dropout(0.25))\n",
        "model.add(Dense(17, activation='softmax'))\n",
        "\n",
        "# Compile the model\n",
        "model.compile(loss='CategoricalCrossentropy', optimizer=Adam(learning_rate=0.001), metrics=['accuracy'])\n",
        "\n",
        "print(padded_sequences.shape)\n",
        "print(len(y_train))\n",
        "\n",
        "class PlotLoss(tf.keras.callbacks.Callback):\n",
        "    def on_train_begin(self, logs={}):\n",
        "        self.i = 0\n",
        "        self.x = []\n",
        "        self.losses = []\n",
        "        self.val_losses = []\n",
        "        self.fig = plt.figure()\n",
        "        self.logs = []\n",
        "        \n",
        "    def on_epoch_end(self, epoch, logs={}):\n",
        "        self.logs.append(logs)\n",
        "        self.x.append(self.i)\n",
        "        self.losses.append(logs.get('loss'))\n",
        "        self.val_losses.append(logs.get('val_loss'))\n",
        "        self.i += 1\n",
        "        clear_output(wait=True)\n",
        "        plt.plot(self.x, self.losses, label=\"loss\")\n",
        "        plt.plot(self.x, self.val_losses, label=\"val_loss\")\n",
        "        plt.legend()\n",
        "        plt.show()\n",
        "        \n",
        "plot_loss = PlotLoss()\n",
        "early_stop = EarlyStopping(monitor='val_loss', patience=3, verbose=1)\n",
        "\n",
        "checkpoint_filepath = 'best_model.h5'\n",
        "# Define the callback to save only the best model based on validation loss\n",
        "checkpoint_callback = ModelCheckpoint(\n",
        "    filepath=checkpoint_filepath,\n",
        "    monitor='val_loss',\n",
        "    mode='min',\n",
        "    save_best_only=True,\n",
        "    save_weights_only=False,\n",
        "    verbose=1\n",
        ")\n",
        "\n",
        "\n",
        "# Train the model\n",
        "history = model.fit(np.array(padded_sequences), np.array(y_train_encoded), validation_split=0.1, epochs=15, batch_size=32, callbacks=[plot_loss, early_stop,checkpoint_callback])\n",
        "\n",
        "sequence = tests\n",
        "# Pad the sequences to ensure they all have the same length\n",
        "padded_sequences = pad_sequences(sequence, maxlen=max_length)\n",
        "y_test_encoded = to_categorical(y_test, num_classes=num_classes)\n",
        "\n",
        "best_model = load_model(checkpoint_filepath)\n",
        "test_loss, test_acc = best_model.evaluate(np.array(padded_sequences), np.array(y_test_encoded))\n",
        "print('Test Loss:', test_loss)\n",
        "print('Test Accuracy:', test_acc)\n"
      ],
      "metadata": {
        "colab": {
          "base_uri": "https://localhost:8080/",
          "height": 551
        },
        "id": "yMhidPTR1ex4",
        "outputId": "b40c80ed-2b11-437e-ee92-72a27ded1c39"
      },
      "id": "yMhidPTR1ex4",
      "execution_count": 72,
      "outputs": [
        {
          "output_type": "display_data",
          "data": {
            "text/plain": [
              "<Figure size 640x480 with 1 Axes>"
            ],
            "image/png": "[encoded data removed]"
          },
          "metadata": {}
        },
        {
          "output_type": "stream",
          "name": "stdout",
          "text": [
            "\n",
            "Epoch 13: val_loss did not improve from 0.05535\n",
            "121/121 [==============================] - 26s 212ms/step - loss: 0.1918 - accuracy: 0.9571 - val_loss: 0.1339 - val_accuracy: 0.9813\n",
            "Epoch 13: early stopping\n",
            "19/19 [==============================] - 2s 56ms/step - loss: 0.2641 - accuracy: 0.9334\n",
            "Test Loss: 0.26414304971694946\n",
            "Test Accuracy: 0.9334471225738525\n"
          ]
        }
      ]
    },
    {
      "cell_type": "markdown",
      "source": [
        "Conclusion:\n",
        "\n",
        "I initially started with FCNN and i was not expecting great results because context of the words was missing. Surprisingly with a deep enough model, i was able to achieve 92% accuracy.\n",
        "\n",
        "I was very excited to build a LSTM using word2vec pretrained embedding model.\n",
        "But I was realized that all the stopwords were missing from the keys which I wasnt comfortable with as stopwords add meaning to statement and we are trying to categorize the statements. So i moved to glove-300 pre trained model. LSTM model can easily get overfitted if we increase the parameters is what i observed. Initially model gave around 90% accuracy and I wasnt happy with it.\n",
        "So, i went on to add LSTM layers but then model was overfitting and accuracy dropped to 70%. I added dropout layers and L1, L2 layers but L1,L2 layers didnt help. After few tweaks and reducing learning rate and complexity of the model, along with increasing the dropout %, i was able to achieve 93.5% accuracy.\n",
        "Honestly, I thought LSTM will deliver higher 90s accuracy.\n",
        "LSTM is Definity the way to go, especially if the vocabulary size increases.\n",
        "\n"
      ],
      "metadata": {
        "id": "XGYSFV0HqS9Q"
      },
      "id": "XGYSFV0HqS9Q"
    }
  ],
  "metadata": {
    "kernelspec": {
      "display_name": "tensorflow_env",
      "language": "python",
      "name": "tensorflow_env"
    },
    "language_info": {
      "codemirror_mode": {
        "name": "ipython",
        "version": 3
      },
      "file_extension": ".py",
      "mimetype": "text/x-python",
      "name": "python",
      "nbconvert_exporter": "python",
      "pygments_lexer": "ipython3",
      "version": "3.7.11"
    },
    "colab": {
      "provenance": []
    }
  },
  "nbformat": 4,
  "nbformat_minor": 5
}